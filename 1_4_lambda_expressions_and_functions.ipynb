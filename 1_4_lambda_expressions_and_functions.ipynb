{
  "nbformat": 4,
  "nbformat_minor": 0,
  "metadata": {
    "anaconda-cloud": {},
    "kernelspec": {
      "display_name": "Python 3",
      "language": "python",
      "name": "python3"
    },
    "language_info": {
      "codemirror_mode": {
        "name": "ipython",
        "version": 3
      },
      "file_extension": ".py",
      "mimetype": "text/x-python",
      "name": "python",
      "nbconvert_exporter": "python",
      "pygments_lexer": "ipython3",
      "version": "3.7.2"
    },
    "nbpresent": {
      "slides": {
        "d8cfa8b7-18e5-4d2f-8e92-8164c8bfad3b": {
          "id": "d8cfa8b7-18e5-4d2f-8e92-8164c8bfad3b",
          "prev": null,
          "regions": {
            "81231d63-4899-45f2-b382-fabf4f762896": {
              "attrs": {
                "height": 0.8,
                "width": 0.45,
                "x": 0.5,
                "y": 0.1
              },
              "id": "81231d63-4899-45f2-b382-fabf4f762896"
            },
            "b40d103d-8d7f-44de-8fca-19b2f9861cdd": {
              "attrs": {
                "height": 0.8,
                "width": 0.45,
                "x": 0.05,
                "y": 0.1
              },
              "id": "b40d103d-8d7f-44de-8fca-19b2f9861cdd"
            }
          }
        }
      },
      "themes": {}
    },
    "colab": {
      "name": "1_4_lambda_expressions_and_functions.ipynb",
      "provenance": [],
      "include_colab_link": true
    }
  },
  "cells": [
    {
      "cell_type": "markdown",
      "metadata": {
        "id": "view-in-github",
        "colab_type": "text"
      },
      "source": [
        "<a href=\"https://colab.research.google.com/github/KyleMaciej/module1_lectures/blob/master/1_4_lambda_expressions_and_functions.ipynb\" target=\"_parent\"><img src=\"https://colab.research.google.com/assets/colab-badge.svg\" alt=\"Open In Colab\"/></a>"
      ]
    },
    {
      "cell_type": "markdown",
      "metadata": {
        "nbpresent": {
          "id": "72b0ede6-af2b-41e9-81af-16c345e658d3"
        },
        "id": "9rIZGNQeai3J",
        "colab_type": "text"
      },
      "source": [
        "# Lambda Expressions and Functions\n",
        "\n",
        "## Objectives\n",
        "\n",
        "1. Use variables to make expressions more readable\n",
        "2. Introduce the `lambda` expression for reusing expressions\n",
        "3. Writing more complicated functions with the `def` statement"
      ]
    },
    {
      "cell_type": "markdown",
      "metadata": {
        "nbpresent": {
          "id": "1a11188f-9efb-4909-b63f-fa5d6ed1628a"
        },
        "id": "889MMyGtai3N",
        "colab_type": "text"
      },
      "source": [
        "## The `lambda` expression\n",
        "\n",
        "* Allows reuse of expressions\n",
        "* Variables become **Parameters**\n",
        "    * insert values later"
      ]
    },
    {
      "cell_type": "markdown",
      "metadata": {
        "nbpresent": {
          "id": "a59a0a0b-3a93-41e6-b1bd-b9c856d68106"
        },
        "id": "y_coC7G7ai3P",
        "colab_type": "text"
      },
      "source": [
        "## The `lambda` syntax\n",
        "\n",
        "<img src=\"https://github.com/KyleMaciej/module1_lectures/blob/master/img/lambda_syntax.png?raw=1\"/>"
      ]
    },
    {
      "cell_type": "code",
      "metadata": {
        "nbpresent": {
          "id": "12154f73-b113-47f0-a659-899c3c2e9cda"
        },
        "id": "5ZrjV-rsai3U",
        "colab_type": "code",
        "colab": {}
      },
      "source": [
        "f = lambda x: x**2"
      ],
      "execution_count": null,
      "outputs": []
    },
    {
      "cell_type": "code",
      "metadata": {
        "nbpresent": {
          "id": "12154f73-b113-47f0-a659-899c3c2e9cda"
        },
        "id": "wYLOZB0kai3k",
        "colab_type": "code",
        "colab": {},
        "outputId": "1d25f742-c27f-48d2-c814-96a953778d57"
      },
      "source": [
        "f = lambda x: x**2\n",
        "f(2)"
      ],
      "execution_count": null,
      "outputs": [
        {
          "output_type": "execute_result",
          "data": {
            "text/plain": [
              "4"
            ]
          },
          "metadata": {
            "tags": []
          },
          "execution_count": 2
        }
      ]
    },
    {
      "cell_type": "markdown",
      "metadata": {
        "id": "wruprqdLai3z",
        "colab_type": "text"
      },
      "source": [
        "## Evaluating `lambda` expressions\n",
        "\n",
        "<img src=\"https://github.com/KyleMaciej/module1_lectures/blob/master/img/lambda_evaluation.png?raw=1\" width=400/>"
      ]
    },
    {
      "cell_type": "markdown",
      "metadata": {
        "nbpresent": {
          "id": "a59a0a0b-3a93-41e6-b1bd-b9c856d68106"
        },
        "id": "ONwStOERai32",
        "colab_type": "text"
      },
      "source": [
        "## The `lambda` expression\n",
        "\n",
        "* The *type* of a `lambda` is the type `function`\n",
        "* The *value* of a `lambda` expression is actual function\n",
        "* Remember\n",
        "    * `lambda` MAKES the function\n",
        "    * Use function call to execute the function"
      ]
    },
    {
      "cell_type": "code",
      "metadata": {
        "id": "Ya1NN1FBasOn",
        "colab_type": "code",
        "colab": {
          "base_uri": "https://localhost:8080/",
          "height": 34
        },
        "outputId": "3fab3ca4-ea88-430b-9808-a7f60add12a6"
      },
      "source": [
        "f = lambda x: x**2\n",
        "f(2)"
      ],
      "execution_count": 2,
      "outputs": [
        {
          "output_type": "execute_result",
          "data": {
            "text/plain": [
              "4"
            ]
          },
          "metadata": {
            "tags": []
          },
          "execution_count": 2
        }
      ]
    },
    {
      "cell_type": "code",
      "metadata": {
        "id": "R9EWo6Itai37",
        "colab_type": "code",
        "colab": {},
        "outputId": "be2339a4-60ba-4adf-875b-e981359680b9"
      },
      "source": [
        "f"
      ],
      "execution_count": null,
      "outputs": [
        {
          "output_type": "execute_result",
          "data": {
            "text/plain": [
              "<function __main__.<lambda>>"
            ]
          },
          "metadata": {
            "tags": []
          },
          "execution_count": 5
        }
      ]
    },
    {
      "cell_type": "code",
      "metadata": {
        "nbpresent": {
          "id": "12154f73-b113-47f0-a659-899c3c2e9cda"
        },
        "id": "TI9KJELIai4I",
        "colab_type": "code",
        "colab": {},
        "outputId": "c9afc9d0-5c05-4888-ad53-dd9ae239956d"
      },
      "source": [
        "type(f)"
      ],
      "execution_count": null,
      "outputs": [
        {
          "output_type": "execute_result",
          "data": {
            "text/plain": [
              "function"
            ]
          },
          "metadata": {
            "tags": []
          },
          "execution_count": 2
        }
      ]
    },
    {
      "cell_type": "markdown",
      "metadata": {
        "id": "NeqVecFxai4Y",
        "colab_type": "text"
      },
      "source": [
        "## Calling a lambda expression in the usual way"
      ]
    },
    {
      "cell_type": "code",
      "metadata": {
        "nbpresent": {
          "id": "eb41b143-7ceb-475d-83e3-941bd5866cb4"
        },
        "id": "WGW8XzJjai4c",
        "colab_type": "code",
        "colab": {},
        "outputId": "824452a0-fe0c-49d7-c8d2-0c02589916e2"
      },
      "source": [
        "f(3)"
      ],
      "execution_count": null,
      "outputs": [
        {
          "output_type": "execute_result",
          "data": {
            "text/plain": [
              "9"
            ]
          },
          "metadata": {
            "tags": []
          },
          "execution_count": 3
        }
      ]
    },
    {
      "cell_type": "markdown",
      "metadata": {
        "id": "hqU3pEu8ai4t",
        "colab_type": "text"
      },
      "source": [
        "<font color=\"red\"><h1>Exercise 1</h1></font>\n",
        "\n",
        "Write a function using a `lambda` expression that computes the area of a circle with radius `r`.\n"
      ]
    },
    {
      "cell_type": "code",
      "metadata": {
        "id": "_GnywYVcai4u",
        "colab_type": "code",
        "colab": {
          "base_uri": "https://localhost:8080/",
          "height": 34
        },
        "outputId": "02570921-8686-4cee-edad-46e7f1eaca71"
      },
      "source": [
        "import math\n",
        "f = lambda x: x**2 * math.pi\n",
        "f(2) "
      ],
      "execution_count": 20,
      "outputs": [
        {
          "output_type": "execute_result",
          "data": {
            "text/plain": [
              "12.566370614359172"
            ]
          },
          "metadata": {
            "tags": []
          },
          "execution_count": 20
        }
      ]
    },
    {
      "cell_type": "markdown",
      "metadata": {
        "id": "4uzKpdubai4-",
        "colab_type": "text"
      },
      "source": [
        "## Lambdas with many arguments"
      ]
    },
    {
      "cell_type": "code",
      "metadata": {
        "nbpresent": {
          "id": "2f7d8217-77e6-4c57-802a-ac417af24d61"
        },
        "id": "6gr6ZPt7ai5A",
        "colab_type": "code",
        "colab": {},
        "outputId": "25b6b23b-c43c-447e-a995-b3d2dc5e682c"
      },
      "source": [
        "g = lambda x, y : x**y\n",
        "g(2,4)"
      ],
      "execution_count": null,
      "outputs": [
        {
          "output_type": "execute_result",
          "data": {
            "text/plain": [
              "16"
            ]
          },
          "metadata": {
            "tags": []
          },
          "execution_count": 9
        }
      ]
    },
    {
      "cell_type": "markdown",
      "metadata": {
        "id": "fi2c7QNPai5T",
        "colab_type": "text"
      },
      "source": [
        "## Evaluating a 2 argument `lambda`\n",
        "\n",
        "<img src=\"https://github.com/KyleMaciej/module1_lectures/blob/master/img/lambda_eval_2arg_1.png?raw=1\" width=600/>"
      ]
    },
    {
      "cell_type": "markdown",
      "metadata": {
        "id": "KdPfwphvai5Y",
        "colab_type": "text"
      },
      "source": [
        "## Evaluating a 2 argument `lambda`\n",
        "\n",
        "<img src=\"https://github.com/KyleMaciej/module1_lectures/blob/master/img/lambda_eval_2arg_2.png?raw=1\" width=600/>"
      ]
    },
    {
      "cell_type": "markdown",
      "metadata": {
        "id": "23PGqkb-ai5b",
        "colab_type": "text"
      },
      "source": [
        "## Evaluating a 2 argument `lambda`\n",
        "\n",
        "<img src=\"https://github.com/KyleMaciej/module1_lectures/blob/master/img/lambda_eval_2arg_3.png?raw=1\" width=600/>"
      ]
    },
    {
      "cell_type": "markdown",
      "metadata": {
        "id": "RhCgJwnxai5e",
        "colab_type": "text"
      },
      "source": [
        ""
      ]
    },
    {
      "cell_type": "markdown",
      "metadata": {
        "id": "R70ZFQPWai5i",
        "colab_type": "text"
      },
      "source": [
        "<font color=\"red\"><h1>Exercise 2</h1></font>\n",
        "\n",
        "Use a similar process to evaluate `h(1,2,3)` when\n",
        "\n",
        "```\n",
        "h = lambda x, y, z: 2*x*y+ y**2/z\n",
        "```"
      ]
    },
    {
      "cell_type": "code",
      "metadata": {
        "id": "VKTqSvCsai5l",
        "colab_type": "code",
        "colab": {
          "base_uri": "https://localhost:8080/",
          "height": 34
        },
        "outputId": "9b00a19a-b99a-4668-d0b6-0bfa52c9e3c7"
      },
      "source": [
        "h = lambda x, y, z: 2*x*y+ y**2/z\n",
        "h(1, 2, 3)"
      ],
      "execution_count": 8,
      "outputs": [
        {
          "output_type": "execute_result",
          "data": {
            "text/plain": [
              "5.333333333333333"
            ]
          },
          "metadata": {
            "tags": []
          },
          "execution_count": 8
        }
      ]
    },
    {
      "cell_type": "code",
      "metadata": {
        "id": "yirbWKUlai52",
        "colab_type": "code",
        "colab": {
          "base_uri": "https://localhost:8080/",
          "height": 34
        },
        "outputId": "719e844f-a943-4f63-f426-13232dcce77a"
      },
      "source": [
        "(lambda x, y, z: 2*x*y + y**2/z)(1,2,3)"
      ],
      "execution_count": 23,
      "outputs": [
        {
          "output_type": "execute_result",
          "data": {
            "text/plain": [
              "5.333333333333333"
            ]
          },
          "metadata": {
            "tags": []
          },
          "execution_count": 23
        }
      ]
    },
    {
      "cell_type": "code",
      "metadata": {
        "id": "B9ltOkhVfn46",
        "colab_type": "code",
        "colab": {
          "base_uri": "https://localhost:8080/",
          "height": 34
        },
        "outputId": "ee33a80d-c0ae-4d93-dc21-9fb63b3458d0"
      },
      "source": [
        "(lambda y, z: 2*1*y + y**2/z) (2,3)"
      ],
      "execution_count": 25,
      "outputs": [
        {
          "output_type": "execute_result",
          "data": {
            "text/plain": [
              "5.333333333333333"
            ]
          },
          "metadata": {
            "tags": []
          },
          "execution_count": 25
        }
      ]
    },
    {
      "cell_type": "code",
      "metadata": {
        "id": "o-aY-6nBfzTI",
        "colab_type": "code",
        "colab": {
          "base_uri": "https://localhost:8080/",
          "height": 34
        },
        "outputId": "7cf2f498-44ab-4713-beea-be9005dce3b7"
      },
      "source": [
        "(lambda z: 2*1*2 + 2**2/z)(3)"
      ],
      "execution_count": 27,
      "outputs": [
        {
          "output_type": "execute_result",
          "data": {
            "text/plain": [
              "5.333333333333333"
            ]
          },
          "metadata": {
            "tags": []
          },
          "execution_count": 27
        }
      ]
    },
    {
      "cell_type": "code",
      "metadata": {
        "id": "CriGv3pgf8wf",
        "colab_type": "code",
        "colab": {
          "base_uri": "https://localhost:8080/",
          "height": 34
        },
        "outputId": "d3ac8b8c-453d-4801-af78-58f6ed838c92"
      },
      "source": [
        "2*1*2 + 2**2/3"
      ],
      "execution_count": 31,
      "outputs": [
        {
          "output_type": "execute_result",
          "data": {
            "text/plain": [
              "5.333333333333333"
            ]
          },
          "metadata": {
            "tags": []
          },
          "execution_count": 31
        }
      ]
    },
    {
      "cell_type": "markdown",
      "metadata": {
        "id": "DCKdODjgai6A",
        "colab_type": "text"
      },
      "source": [
        "<font color=\"red\"><h1>Exercise 3</h1></font>\n",
        "\n",
        "The function `random` from the `random` module can be used to generate numbers between 0 and 1 at random. We want to return numbers between $a$ and $b$ at random, which can be accomplished using the formula $V = (b - a)*random() + a$.\n",
        "\n",
        "Write a lambda function that takes `a` and `b` as arguments are returns a number between `a` and `b` at random."
      ]
    },
    {
      "cell_type": "code",
      "metadata": {
        "id": "m_itROkvai6D",
        "colab_type": "code",
        "colab": {
          "base_uri": "https://localhost:8080/",
          "height": 34
        },
        "outputId": "0f3bbf75-6a67-435b-efe9-982ffdae2bf7"
      },
      "source": [
        "import random\n",
        "h = lambda a,b: (b-a) * random.random() + a\n",
        "h(3,5)"
      ],
      "execution_count": 33,
      "outputs": [
        {
          "output_type": "execute_result",
          "data": {
            "text/plain": [
              "4.197483226058007"
            ]
          },
          "metadata": {
            "tags": []
          },
          "execution_count": 33
        }
      ]
    }
  ]
}