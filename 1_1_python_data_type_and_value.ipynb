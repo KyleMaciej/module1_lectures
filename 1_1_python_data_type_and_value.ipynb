{
  "nbformat": 4,
  "nbformat_minor": 0,
  "metadata": {
    "anaconda-cloud": {},
    "kernelspec": {
      "display_name": "Python 3",
      "language": "python",
      "name": "python3"
    },
    "language_info": {
      "codemirror_mode": {
        "name": "ipython",
        "version": 3
      },
      "file_extension": ".py",
      "mimetype": "text/x-python",
      "name": "python",
      "nbconvert_exporter": "python",
      "pygments_lexer": "ipython3",
      "version": "3.7.0"
    },
    "colab": {
      "name": "1_1_python_data_type_and_value.ipynb",
      "provenance": [],
      "include_colab_link": true
    }
  },
  "cells": [
    {
      "cell_type": "markdown",
      "metadata": {
        "id": "view-in-github",
        "colab_type": "text"
      },
      "source": [
        "<a href=\"https://colab.research.google.com/github/KyleMaciej/module1_lectures/blob/master/1_1_python_data_type_and_value.ipynb\" target=\"_parent\"><img src=\"https://colab.research.google.com/assets/colab-badge.svg\" alt=\"Open In Colab\"/></a>"
      ]
    },
    {
      "cell_type": "markdown",
      "metadata": {
        "id": "nwla67mdbxNh",
        "colab_type": "text"
      },
      "source": [
        "## Python data\n",
        "\n",
        "* All data have a *type* and *value*\n",
        "    * *type* is based off the underlying class\n",
        "    * *value* is returned by the Python interpreter\n",
        "* We can use the `type` function to discover data classes/types"
      ]
    },
    {
      "cell_type": "markdown",
      "metadata": {
        "id": "FG-PZPeXbxNj",
        "colab_type": "text"
      },
      "source": [
        "#### Value of `\"Hello World\"`"
      ]
    },
    {
      "cell_type": "code",
      "metadata": {
        "id": "K4rq97qEbxNl",
        "colab_type": "code",
        "colab": {
          "base_uri": "https://localhost:8080/",
          "height": 35
        },
        "outputId": "6015953d-eb8f-47f4-c6b2-2870e5385ef5"
      },
      "source": [
        "\"Hello World\""
      ],
      "execution_count": 3,
      "outputs": [
        {
          "output_type": "execute_result",
          "data": {
            "application/vnd.google.colaboratory.intrinsic+json": {
              "type": "string"
            },
            "text/plain": [
              "'Hello World'"
            ]
          },
          "metadata": {
            "tags": []
          },
          "execution_count": 3
        }
      ]
    },
    {
      "cell_type": "markdown",
      "metadata": {
        "id": "KqhTLJ17bxNx",
        "colab_type": "text"
      },
      "source": [
        "#### Type of `\"Hello World\"`"
      ]
    },
    {
      "cell_type": "code",
      "metadata": {
        "id": "LAFGzhsibxNz",
        "colab_type": "code",
        "colab": {},
        "outputId": "a009e9f9-60b3-4604-9b46-d60056c88b13"
      },
      "source": [
        "type(\"Hello World\")"
      ],
      "execution_count": null,
      "outputs": [
        {
          "output_type": "execute_result",
          "data": {
            "text/plain": [
              "str"
            ]
          },
          "metadata": {
            "tags": []
          },
          "execution_count": 14
        }
      ]
    },
    {
      "cell_type": "code",
      "metadata": {
        "id": "PnYNL_CJbxN8",
        "colab_type": "code",
        "colab": {},
        "outputId": "af3f8442-394d-4ea5-b731-7c60ae756760"
      },
      "source": [
        "2.5"
      ],
      "execution_count": null,
      "outputs": [
        {
          "output_type": "execute_result",
          "data": {
            "text/plain": [
              "2.5"
            ]
          },
          "metadata": {
            "tags": []
          },
          "execution_count": 26
        }
      ]
    },
    {
      "cell_type": "code",
      "metadata": {
        "id": "7jYkqPqjbxOF",
        "colab_type": "code",
        "colab": {},
        "outputId": "9ecd41f7-59ba-4206-c3f1-6192b6f5f4da"
      },
      "source": [
        "type(2.5)"
      ],
      "execution_count": null,
      "outputs": [
        {
          "output_type": "execute_result",
          "data": {
            "text/plain": [
              "float"
            ]
          },
          "metadata": {
            "tags": []
          },
          "execution_count": 27
        }
      ]
    },
    {
      "cell_type": "code",
      "metadata": {
        "scrolled": true,
        "id": "6gBy8Lj7bxOQ",
        "colab_type": "code",
        "colab": {},
        "outputId": "da26b0aa-a994-4926-9458-482f4f0e89a7"
      },
      "source": [
        "17"
      ],
      "execution_count": null,
      "outputs": [
        {
          "output_type": "execute_result",
          "data": {
            "text/plain": [
              "17"
            ]
          },
          "metadata": {
            "tags": []
          },
          "execution_count": 28
        }
      ]
    },
    {
      "cell_type": "code",
      "metadata": {
        "scrolled": false,
        "id": "yCTArdNabxOa",
        "colab_type": "code",
        "colab": {},
        "outputId": "a9ec1b07-21df-41eb-cb6b-d16150cc5964"
      },
      "source": [
        "type(17)"
      ],
      "execution_count": null,
      "outputs": [
        {
          "output_type": "execute_result",
          "data": {
            "text/plain": [
              "int"
            ]
          },
          "metadata": {
            "tags": []
          },
          "execution_count": 29
        }
      ]
    },
    {
      "cell_type": "code",
      "metadata": {
        "scrolled": true,
        "id": "KzMUYTGCbxOj",
        "colab_type": "code",
        "colab": {
          "base_uri": "https://localhost:8080/",
          "height": 34
        },
        "outputId": "267a3f34-c1b3-4fe2-f30b-88e2df94bddf"
      },
      "source": [
        "17.0"
      ],
      "execution_count": 4,
      "outputs": [
        {
          "output_type": "execute_result",
          "data": {
            "text/plain": [
              "17.0"
            ]
          },
          "metadata": {
            "tags": []
          },
          "execution_count": 4
        }
      ]
    },
    {
      "cell_type": "code",
      "metadata": {
        "id": "M4E11mqPeAG8",
        "colab_type": "code",
        "colab": {
          "base_uri": "https://localhost:8080/",
          "height": 34
        },
        "outputId": "56da7872-ecca-4eea-df75-87b532d92ec4"
      },
      "source": [
        "type(17.0)"
      ],
      "execution_count": 5,
      "outputs": [
        {
          "output_type": "execute_result",
          "data": {
            "text/plain": [
              "float"
            ]
          },
          "metadata": {
            "tags": []
          },
          "execution_count": 5
        }
      ]
    },
    {
      "cell_type": "markdown",
      "metadata": {
        "id": "EVjyolYKbxOw",
        "colab_type": "text"
      },
      "source": [
        "<font color=\"red\"> <h2> Exercise </h2></font>\n",
        "\n",
        "Investivate the type and value of the following\n",
        "\n",
        "* 2 + 17\n",
        "* 2 + 17.0"
      ]
    },
    {
      "cell_type": "code",
      "metadata": {
        "scrolled": false,
        "id": "bTE_N8pybxOx",
        "colab_type": "code",
        "colab": {
          "base_uri": "https://localhost:8080/",
          "height": 34
        },
        "outputId": "f593e91c-b12f-4e09-abb1-1fb57706ee7f"
      },
      "source": [
        "2 + 17"
      ],
      "execution_count": 8,
      "outputs": [
        {
          "output_type": "execute_result",
          "data": {
            "text/plain": [
              "19"
            ]
          },
          "metadata": {
            "tags": []
          },
          "execution_count": 8
        }
      ]
    },
    {
      "cell_type": "code",
      "metadata": {
        "id": "jmao650tegQv",
        "colab_type": "code",
        "colab": {
          "base_uri": "https://localhost:8080/",
          "height": 34
        },
        "outputId": "d8b10f0f-8e49-45dc-c606-16ade35abc12"
      },
      "source": [
        "type(2 + 17)"
      ],
      "execution_count": 9,
      "outputs": [
        {
          "output_type": "execute_result",
          "data": {
            "text/plain": [
              "int"
            ]
          },
          "metadata": {
            "tags": []
          },
          "execution_count": 9
        }
      ]
    },
    {
      "cell_type": "code",
      "metadata": {
        "id": "eNDLTfGCekHn",
        "colab_type": "code",
        "colab": {
          "base_uri": "https://localhost:8080/",
          "height": 34
        },
        "outputId": "545f1b6f-57b0-4dfc-9986-c07d434f2535"
      },
      "source": [
        "2 + 17.0"
      ],
      "execution_count": 10,
      "outputs": [
        {
          "output_type": "execute_result",
          "data": {
            "text/plain": [
              "19.0"
            ]
          },
          "metadata": {
            "tags": []
          },
          "execution_count": 10
        }
      ]
    },
    {
      "cell_type": "code",
      "metadata": {
        "id": "xiqWkGa6enMY",
        "colab_type": "code",
        "colab": {
          "base_uri": "https://localhost:8080/",
          "height": 34
        },
        "outputId": "f428f150-105d-454d-9ef5-c54787a03382"
      },
      "source": [
        "type(2 + 17.0)"
      ],
      "execution_count": 11,
      "outputs": [
        {
          "output_type": "execute_result",
          "data": {
            "text/plain": [
              "float"
            ]
          },
          "metadata": {
            "tags": []
          },
          "execution_count": 11
        }
      ]
    },
    {
      "cell_type": "markdown",
      "metadata": {
        "id": "vV-McMvZbxO5",
        "colab_type": "text"
      },
      "source": [
        "## Other basic types\n",
        "\n",
        "* Boolean\n",
        "* None"
      ]
    },
    {
      "cell_type": "code",
      "metadata": {
        "id": "Q4qhciRFbxO8",
        "colab_type": "code",
        "colab": {},
        "outputId": "672fecea-6e51-400d-de9a-fa586d614f85"
      },
      "source": [
        "True"
      ],
      "execution_count": null,
      "outputs": [
        {
          "output_type": "execute_result",
          "data": {
            "text/plain": [
              "True"
            ]
          },
          "metadata": {
            "tags": []
          },
          "execution_count": 36
        }
      ]
    },
    {
      "cell_type": "code",
      "metadata": {
        "id": "bvnsS8cLbxPL",
        "colab_type": "code",
        "colab": {},
        "outputId": "baa4a043-c51e-404b-f71e-3795c5e92fcf"
      },
      "source": [
        "type(True)"
      ],
      "execution_count": null,
      "outputs": [
        {
          "output_type": "execute_result",
          "data": {
            "text/plain": [
              "bool"
            ]
          },
          "metadata": {
            "tags": []
          },
          "execution_count": 37
        }
      ]
    },
    {
      "cell_type": "code",
      "metadata": {
        "id": "SzlL29NjbxPU",
        "colab_type": "code",
        "colab": {},
        "outputId": "4dcbe65d-2650-4c54-f8bf-dd3cd954bee8"
      },
      "source": [
        "False"
      ],
      "execution_count": null,
      "outputs": [
        {
          "output_type": "execute_result",
          "data": {
            "text/plain": [
              "False"
            ]
          },
          "metadata": {
            "tags": []
          },
          "execution_count": 38
        }
      ]
    },
    {
      "cell_type": "code",
      "metadata": {
        "id": "iN2ArEdqbxPh",
        "colab_type": "code",
        "colab": {},
        "outputId": "3f8db7d3-8aff-4462-ed84-10eacd85ad10"
      },
      "source": [
        "type(False)"
      ],
      "execution_count": null,
      "outputs": [
        {
          "output_type": "execute_result",
          "data": {
            "text/plain": [
              "bool"
            ]
          },
          "metadata": {
            "tags": []
          },
          "execution_count": 39
        }
      ]
    },
    {
      "cell_type": "code",
      "metadata": {
        "id": "ZnWwwcdLbxPo",
        "colab_type": "code",
        "colab": {}
      },
      "source": [
        "None"
      ],
      "execution_count": null,
      "outputs": []
    },
    {
      "cell_type": "code",
      "metadata": {
        "id": "HTBrRQaObxPy",
        "colab_type": "code",
        "colab": {},
        "outputId": "b4dac303-1382-49bc-ee78-c453aefbc525"
      },
      "source": [
        "type(None)"
      ],
      "execution_count": null,
      "outputs": [
        {
          "output_type": "execute_result",
          "data": {
            "text/plain": [
              "NoneType"
            ]
          },
          "metadata": {
            "tags": []
          },
          "execution_count": 41
        }
      ]
    },
    {
      "cell_type": "markdown",
      "metadata": {
        "id": "ZeeaFdFObxP7",
        "colab_type": "text"
      },
      "source": [
        "## Collection types\n",
        "\n",
        "* Python comes with nice collection types\n",
        "   "
      ]
    },
    {
      "cell_type": "code",
      "metadata": {
        "id": "JQBYoln8bxP9",
        "colab_type": "code",
        "colab": {},
        "outputId": "de34ffce-1db3-498e-ca92-2b936fcd7043"
      },
      "source": [
        "[1,2,3] # Mutatable sequence"
      ],
      "execution_count": null,
      "outputs": [
        {
          "output_type": "execute_result",
          "data": {
            "text/plain": [
              "[1, 2, 3]"
            ]
          },
          "metadata": {
            "tags": []
          },
          "execution_count": 42
        }
      ]
    },
    {
      "cell_type": "code",
      "metadata": {
        "id": "pW62LDBabxQF",
        "colab_type": "code",
        "colab": {},
        "outputId": "10d13cb7-d878-4b20-98e7-1648ad932fcf"
      },
      "source": [
        "type([1,2,3]) # Mutatable sequence"
      ],
      "execution_count": null,
      "outputs": [
        {
          "output_type": "execute_result",
          "data": {
            "text/plain": [
              "list"
            ]
          },
          "metadata": {
            "tags": []
          },
          "execution_count": 43
        }
      ]
    },
    {
      "cell_type": "code",
      "metadata": {
        "id": "AKCxECsWbxQN",
        "colab_type": "code",
        "colab": {},
        "outputId": "13c5cee9-be0d-40a3-d140-9207c0ac18d0"
      },
      "source": [
        "(1,2,3) # Immutable sequence"
      ],
      "execution_count": null,
      "outputs": [
        {
          "output_type": "execute_result",
          "data": {
            "text/plain": [
              "(1, 2, 3)"
            ]
          },
          "metadata": {
            "tags": []
          },
          "execution_count": 44
        }
      ]
    },
    {
      "cell_type": "code",
      "metadata": {
        "id": "TT9vwSKlbxQY",
        "colab_type": "code",
        "colab": {},
        "outputId": "98e90144-e58e-4b8e-eaf5-3989636acdde"
      },
      "source": [
        "type((1,2,3)) # Immutable sequence"
      ],
      "execution_count": null,
      "outputs": [
        {
          "output_type": "execute_result",
          "data": {
            "text/plain": [
              "tuple"
            ]
          },
          "metadata": {
            "tags": []
          },
          "execution_count": 45
        }
      ]
    },
    {
      "cell_type": "code",
      "metadata": {
        "id": "_-lKaqbkbxQi",
        "colab_type": "code",
        "colab": {},
        "outputId": "15144634-886a-4209-aa2a-893d3c05a6b8"
      },
      "source": [
        "{\"one\":1, \"two\":2, \"three\":3} # Associative map"
      ],
      "execution_count": null,
      "outputs": [
        {
          "output_type": "execute_result",
          "data": {
            "text/plain": [
              "{'one': 1, 'two': 2, 'three': 3}"
            ]
          },
          "metadata": {
            "tags": []
          },
          "execution_count": 46
        }
      ]
    },
    {
      "cell_type": "code",
      "metadata": {
        "id": "ersR0D36bxQr",
        "colab_type": "code",
        "colab": {},
        "outputId": "bc69bb79-a3bd-4637-c21c-feb3601a794c"
      },
      "source": [
        "type({\"one\":1, \"two\":2, \"three\":3}) # Associative map"
      ],
      "execution_count": null,
      "outputs": [
        {
          "output_type": "execute_result",
          "data": {
            "text/plain": [
              "dict"
            ]
          },
          "metadata": {
            "tags": []
          },
          "execution_count": 47
        }
      ]
    },
    {
      "cell_type": "code",
      "metadata": {
        "id": "EFF5rIIQbxQ2",
        "colab_type": "code",
        "colab": {},
        "outputId": "c41d3bda-aa45-4816-88a9-cb1431f29661"
      },
      "source": [
        "{1,2,3} # Unordered collection with unique entries"
      ],
      "execution_count": null,
      "outputs": [
        {
          "output_type": "execute_result",
          "data": {
            "text/plain": [
              "{1, 2, 3}"
            ]
          },
          "metadata": {
            "tags": []
          },
          "execution_count": 48
        }
      ]
    },
    {
      "cell_type": "code",
      "metadata": {
        "id": "y1-cLtgsbxQ-",
        "colab_type": "code",
        "colab": {},
        "outputId": "4d872f9d-fec3-4c59-94ae-6d8f96ec2c40"
      },
      "source": [
        "type({1,2,3}) # Unordered collection with unique entries"
      ],
      "execution_count": null,
      "outputs": [
        {
          "output_type": "execute_result",
          "data": {
            "text/plain": [
              "set"
            ]
          },
          "metadata": {
            "tags": []
          },
          "execution_count": 49
        }
      ]
    }
  ]
}